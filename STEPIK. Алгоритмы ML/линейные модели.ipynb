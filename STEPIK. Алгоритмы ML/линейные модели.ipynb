{
 "cells": [
  {
   "cell_type": "code",
   "execution_count": 64,
   "metadata": {},
   "outputs": [],
   "source": [
    "import numpy as np\n",
    "import pandas as pd\n",
    "from sklearn.datasets import make_regression\n",
    "\n",
    "X, y = make_regression(n_samples=1000, n_features=14, n_informative=10, noise=15, random_state=42)\n",
    "X = pd.DataFrame(X)\n",
    "y = pd.Series(y)\n",
    "X.columns = [f'col_{col}' for col in X.columns]"
   ]
  },
  {
   "cell_type": "code",
   "execution_count": 65,
   "metadata": {},
   "outputs": [],
   "source": [
    "class MyLineReg():\n",
    "    def __init__(self, n_iter, learning_rate, weights=None):\n",
    "        self.n_iter = n_iter\n",
    "        self.learning_rate = learning_rate\n",
    "        self.weights = weights\n",
    "\n",
    "    def mse(self, X, y):\n",
    "        y_pred = X @ self.weights\n",
    "        error = y_pred - y\n",
    "        return np.sum((error) ** 2) / len(y_pred)\n",
    "    \n",
    "    def gr_mse(self, X, y):\n",
    "        y_pred = X @ self.weights\n",
    "        error = y_pred - y\n",
    "        return (2 / len(y_pred)) * X.T @ (error)\n",
    "\n",
    "    def fit(self, X, y, verbose=False):\n",
    "        X = X.copy()\n",
    "        y = y.copy()\n",
    "        X.insert(0, \"bias\", 1)\n",
    "\n",
    "        if self.weights is None:    \n",
    "            self.weights = np.ones(X.shape[1])\n",
    "\n",
    "        for i in range(self.n_iter):\n",
    "            self.weights -= self.learning_rate * self.gr_mse(X, y)\n",
    "                \n",
    "            if verbose and (i % verbose == 0):\n",
    "                print(f\"{i} | loss: {self.mse(X, y)}\")\n",
    "\n",
    "    def predict(self, X):\n",
    "        X = X.copy()\n",
    "        X.insert(0, \"bias\", 1)\n",
    "        return X @ self.weights\n",
    "            \n",
    "    def get_coef(self):\n",
    "        return self.weights[1:]\n",
    "    \n",
    "    def __str__(self) -> str:\n",
    "        return f\"{self.__class__.__name__} class: \" + \", \".join(\"%s=%s\" % item for item in vars(self).items())\n",
    "    \n",
    "    def __repr__(self) -> str:\n",
    "        return f\"{self.__class__.__name__} class: \" + \", \".join(\"%s=%s\" % item for item in vars(self).items())"
   ]
  },
  {
   "cell_type": "code",
   "execution_count": 66,
   "metadata": {},
   "outputs": [],
   "source": [
    "reg = MyLineReg(300, 0.01)"
   ]
  },
  {
   "cell_type": "code",
   "execution_count": 67,
   "metadata": {},
   "outputs": [
    {
     "name": "stdout",
     "output_type": "stream",
     "text": [
      "0 | loss: 19822.27161599988\n",
      "30 | loss: 6193.199038100217\n",
      "60 | loss: 2076.2727271462527\n",
      "90 | loss: 809.2923486943216\n",
      "120 | loss: 412.12742964839595\n",
      "150 | loss: 285.3638179233295\n",
      "180 | loss: 244.19486951513113\n",
      "210 | loss: 230.60090822132693\n",
      "240 | loss: 226.0415004391157\n",
      "270 | loss: 224.48984875614096\n"
     ]
    },
    {
     "data": {
      "text/plain": [
       "0    -61.499540\n",
       "1    131.311422\n",
       "2    -51.865347\n",
       "3     23.276149\n",
       "4   -131.046757\n",
       "dtype: float64"
      ]
     },
     "execution_count": 67,
     "metadata": {},
     "output_type": "execute_result"
    }
   ],
   "source": [
    "reg.fit(X,y, 30)\n",
    "reg.predict(X).head(5)"
   ]
  }
 ],
 "metadata": {
  "kernelspec": {
   "display_name": "Python 3",
   "language": "python",
   "name": "python3"
  },
  "language_info": {
   "codemirror_mode": {
    "name": "ipython",
    "version": 3
   },
   "file_extension": ".py",
   "mimetype": "text/x-python",
   "name": "python",
   "nbconvert_exporter": "python",
   "pygments_lexer": "ipython3",
   "version": "3.12.0"
  }
 },
 "nbformat": 4,
 "nbformat_minor": 2
}
