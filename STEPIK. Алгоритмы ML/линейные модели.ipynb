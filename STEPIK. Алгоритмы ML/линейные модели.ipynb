{
 "cells": [
  {
   "cell_type": "code",
   "execution_count": 23,
   "metadata": {},
   "outputs": [],
   "source": [
    "import numpy as np\n",
    "import pandas as pd\n",
    "from sklearn.datasets import make_regression\n",
    "\n",
    "X, y = make_regression(n_samples=1000, n_features=14, n_informative=10, noise=15, random_state=42)\n",
    "X = pd.DataFrame(X)\n",
    "y = pd.Series(y)\n",
    "X.columns = [f'col_{col}' for col in X.columns]"
   ]
  },
  {
   "cell_type": "code",
   "execution_count": 24,
   "metadata": {},
   "outputs": [],
   "source": [
    "class MyLineReg():\n",
    "    def __init__(self, n_iter, learning_rate, weights=None):\n",
    "        self.n_iter = n_iter\n",
    "        self.learning_rate = learning_rate\n",
    "        self.weights = weights\n",
    "\n",
    "    def mse(self, X, y):\n",
    "        y_pred = X @ self.weights\n",
    "        error = y_pred - y\n",
    "        return np.sum((error) ** 2) / len(y_pred)\n",
    "    \n",
    "    def gr_mse(self, X, y):\n",
    "        y_pred = X @ self.weights\n",
    "        error = y_pred - y\n",
    "        return (2 / len(y_pred)) * X.T @ (error)\n",
    "\n",
    "    def fit(self, X, y, verbose=False):\n",
    "        X.insert(0, \"bias\", 1)\n",
    "\n",
    "        if self.weights is None:    \n",
    "            self.weights = np.ones(X.shape[1])\n",
    "\n",
    "        for i in range(self.n_iter):\n",
    "            self.weights -= self.learning_rate * self.gr_mse(X, y)\n",
    "                \n",
    "            if verbose and (i % verbose == 0):\n",
    "                print(f\"{i} | loss: {self.mse(X, y)}\")\n",
    "            \n",
    "    def get_coef(self):\n",
    "        return self.weights[1:]\n",
    "    \n",
    "    def __str__(self) -> str:\n",
    "        return f\"{self.__class__.__name__} class: \" + \", \".join(\"%s=%s\" % item for item in vars(self).items())\n",
    "    \n",
    "    def __repr__(self) -> str:\n",
    "        return f\"{self.__class__.__name__} class: \" + \", \".join(\"%s=%s\" % item for item in vars(self).items())"
   ]
  },
  {
   "cell_type": "code",
   "execution_count": 25,
   "metadata": {},
   "outputs": [],
   "source": [
    "reg = MyLineReg(50, 0.1)"
   ]
  },
  {
   "cell_type": "code",
   "execution_count": 26,
   "metadata": {},
   "outputs": [
    {
     "name": "stdout",
     "output_type": "stream",
     "text": [
      "0 | loss: 13360.32856215382\n",
      "5 | loss: 1748.2271233241013\n",
      "10 | loss: 414.22268268298916\n",
      "15 | loss: 249.15004244116764\n",
      "20 | loss: 227.2803332136292\n",
      "25 | loss: 224.20382776707575\n",
      "30 | loss: 223.74856551174267\n",
      "35 | loss: 223.67835234805875\n",
      "40 | loss: 223.66716200136182\n",
      "45 | loss: 223.66533232352947\n"
     ]
    }
   ],
   "source": [
    "\n",
    "reg.fit(X,y, 5)"
   ]
  },
  {
   "cell_type": "code",
   "execution_count": 27,
   "metadata": {},
   "outputs": [
    {
     "data": {
      "text/plain": [
       "col_0     42.918088\n",
       "col_1     16.596470\n",
       "col_2      0.497913\n",
       "col_3     65.371968\n",
       "col_4     47.591063\n",
       "col_5     61.776303\n",
       "col_6      0.246265\n",
       "col_7     -0.107810\n",
       "col_8     60.012217\n",
       "col_9     53.889591\n",
       "col_10    -0.472909\n",
       "col_11    14.426826\n",
       "col_12    17.682723\n",
       "col_13    47.315290\n",
       "dtype: float64"
      ]
     },
     "execution_count": 27,
     "metadata": {},
     "output_type": "execute_result"
    }
   ],
   "source": [
    "reg.get_coef()"
   ]
  },
  {
   "cell_type": "code",
   "execution_count": 28,
   "metadata": {},
   "outputs": [
    {
     "data": {
      "text/plain": [
       "30.55314269483333"
      ]
     },
     "execution_count": 28,
     "metadata": {},
     "output_type": "execute_result"
    }
   ],
   "source": [
    "np.mean(reg.get_coef())"
   ]
  }
 ],
 "metadata": {
  "kernelspec": {
   "display_name": "Python 3",
   "language": "python",
   "name": "python3"
  },
  "language_info": {
   "codemirror_mode": {
    "name": "ipython",
    "version": 3
   },
   "file_extension": ".py",
   "mimetype": "text/x-python",
   "name": "python",
   "nbconvert_exporter": "python",
   "pygments_lexer": "ipython3",
   "version": "3.12.0"
  }
 },
 "nbformat": 4,
 "nbformat_minor": 2
}
