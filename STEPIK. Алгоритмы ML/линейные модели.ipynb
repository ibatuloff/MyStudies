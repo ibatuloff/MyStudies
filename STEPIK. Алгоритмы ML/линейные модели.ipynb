{
 "cells": [
  {
   "cell_type": "code",
   "execution_count": 81,
   "metadata": {},
   "outputs": [],
   "source": [
    "import numpy as np\n",
    "import pandas as pd\n",
    "from sklearn.datasets import make_regression\n",
    "\n",
    "X, y = make_regression(n_samples=1000, n_features=14, n_informative=10, noise=15, random_state=42)\n",
    "X = pd.DataFrame(X)\n",
    "y = pd.Series(y)\n",
    "X.columns = [f'col_{col}' for col in X.columns]"
   ]
  },
  {
   "cell_type": "code",
   "execution_count": 100,
   "metadata": {},
   "outputs": [],
   "source": [
    "class MyLineReg():\n",
    "    def __init__(self, n_iter, learning_rate, metric=None):\n",
    "        \"\"\" \n",
    "        metric: r2, mse, mae, mape, rmse\n",
    "        \"\"\"\n",
    "        self.n_iter = n_iter\n",
    "        self.learning_rate = learning_rate\n",
    "        self.weights = None\n",
    "        self.metric = metric\n",
    "\n",
    "        self.metric_map = {\n",
    "            'mae': self.mae,\n",
    "            'rmse': self.rmse,\n",
    "            'r2': self.r2,\n",
    "            'mape': self.mape,\n",
    "            'mse': self.mse\n",
    "        }\n",
    "\n",
    "        if metric is not None and metric not in self.metric_map:\n",
    "            raise ValueError(f\"Invalid metric name '{metric}'. Supported metrics are: {', '.join(self.metric_map.keys())}\")\n",
    "\n",
    "    def predict(self, X):\n",
    "        X = X.copy()\n",
    "        X.insert(0, \"bias\", 1)\n",
    "        return X @ self.weights\n",
    "\n",
    "    def mae(self, X, y): # mean absolute error\n",
    "        y_pred = X @ self.weights\n",
    "        return 1 / len(y_pred) * np.sum(abs(y - y_pred))\n",
    "    \n",
    "    def rmse(self, X, y): # root mean square error\n",
    "        return self.mse(X, y) ** 0.5\n",
    "    \n",
    "    def r2(self, X, y): #determination coef\n",
    "        y_pred = X @ self.weights\n",
    "        return 1 - np.sum((y - y_pred) ** 2) / np.sum((y - np.mean(y)) ** 2)\n",
    "    \n",
    "    def mape(self, X, y): #mean abs percentage error\n",
    "        y_pred = X @ self.weights\n",
    "        return 100 / len(y_pred) * np.sum(abs((y - y_pred) / y))\n",
    "\n",
    "    def mse(self, X, y):\n",
    "        y_pred = X @ self.weights\n",
    "        error = y_pred - y\n",
    "        return np.sum((error) ** 2) / len(y_pred)\n",
    "    \n",
    "    def gr_mse(self, X, y):\n",
    "        y_pred = X @ self.weights\n",
    "        error = y_pred - y\n",
    "        return (2 / len(y_pred)) * X.T @ (error)\n",
    "\n",
    "    def fit(self, X, y, verbose=False):\n",
    "        X = X.copy()\n",
    "        y = y.copy()\n",
    "        X.insert(0, \"bias\", 1)\n",
    "        if self.weights is None:    \n",
    "            self.weights = np.ones(X.shape[1])\n",
    "\n",
    "        for epoch in range(1, self.n_iter + 1):\n",
    "            self.weights -= self.learning_rate * self.gr_mse(X, y)\n",
    "\n",
    "            if verbose and epoch == 1:\n",
    "                if self.metric:\n",
    "                    metric_func = self.metric_map.get(self.metric)\n",
    "                    score = metric_func(X, y)\n",
    "                    print(f\"start | loss: {self.mse(X, y)} | {self.metric}: {score}\")\n",
    "                else:\n",
    "                    print(f\"start | loss: {self.mse(X, y)}\")\n",
    "\n",
    "            if verbose and (epoch % verbose == 0):\n",
    "                if self.metric:\n",
    "                    metric_func = self.metric_map.get(self.metric)\n",
    "                    score = metric_func(X, y)\n",
    "                    print(f\"{epoch} | loss: {self.mse(X, y)} | {self.metric}: {score}\")\n",
    "                else:\n",
    "                    print(f\"{epoch} | loss: {self.mse(X, y)}\")\n",
    "        if self.metric:\n",
    "            self.best_score = self.metric_map.get(self.metric)(X, y)\n",
    "\n",
    "    def get_coef(self):\n",
    "        return self.weights[1:]\n",
    "    \n",
    "    def get_best_score(self):\n",
    "        return self.best_score\n",
    "\n",
    "    def __str__(self) -> str:\n",
    "        return f\"{self.__class__.__name__} class: \" + \", \".join(\"%s=%s\" % item for item in vars(self).items())\n",
    "    \n",
    "    def __repr__(self) -> str:\n",
    "        return f\"{self.__class__.__name__} class: \" + \", \".join(\"%s=%s\" % item for item in vars(self).items())"
   ]
  },
  {
   "cell_type": "code",
   "execution_count": 106,
   "metadata": {},
   "outputs": [],
   "source": [
    "reg = MyLineReg(300, 0.01, 'mae')"
   ]
  },
  {
   "cell_type": "code",
   "execution_count": 107,
   "metadata": {},
   "outputs": [
    {
     "name": "stdout",
     "output_type": "stream",
     "text": [
      "start | loss: 19822.27161599988 | mae: 111.55513679241831\n",
      "30 | loss: 6432.620103943331 | mae: 63.47483056684259\n",
      "60 | loss: 2149.3809319907755 | mae: 36.61608218040928\n",
      "90 | loss: 832.0335922185088 | mae: 22.808617356694597\n",
      "120 | loss: 419.33129445725154 | mae: 16.268075407583645\n",
      "150 | loss: 287.6864822359632 | mae: 13.510161579138433\n",
      "180 | loss: 244.9565262138996 | mae: 12.51958267597529\n",
      "210 | loss: 230.8547104766008 | mae: 12.195035785301014\n",
      "240 | loss: 226.12735266068472 | mae: 12.074258717797877\n",
      "270 | loss: 224.51929610084292 | mae: 12.025147041427331\n",
      "300 | loss: 223.96488598569044 | mae: 12.008966479550269\n"
     ]
    }
   ],
   "source": [
    "reg.fit(X, y, 30)"
   ]
  },
  {
   "cell_type": "code",
   "execution_count": 108,
   "metadata": {},
   "outputs": [
    {
     "data": {
      "text/plain": [
       "12.008966479550269"
      ]
     },
     "execution_count": 108,
     "metadata": {},
     "output_type": "execute_result"
    }
   ],
   "source": [
    "reg.get_best_score()"
   ]
  }
 ],
 "metadata": {
  "kernelspec": {
   "display_name": "Python 3",
   "language": "python",
   "name": "python3"
  },
  "language_info": {
   "codemirror_mode": {
    "name": "ipython",
    "version": 3
   },
   "file_extension": ".py",
   "mimetype": "text/x-python",
   "name": "python",
   "nbconvert_exporter": "python",
   "pygments_lexer": "ipython3",
   "version": "3.12.0"
  }
 },
 "nbformat": 4,
 "nbformat_minor": 2
}
