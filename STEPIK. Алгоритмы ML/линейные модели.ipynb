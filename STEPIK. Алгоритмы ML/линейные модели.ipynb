{
 "cells": [
  {
   "cell_type": "code",
   "execution_count": 233,
   "metadata": {},
   "outputs": [],
   "source": [
    "import numpy as np\n",
    "import pandas as pd\n",
    "from sklearn.datasets import make_regression\n",
    "\n",
    "X, y = make_regression(n_samples=1000, n_features=14, n_informative=10, noise=15, random_state=42)\n",
    "X = pd.DataFrame(X)\n",
    "y = pd.Series(y)\n",
    "X.columns = [f'col_{col}' for col in X.columns]"
   ]
  },
  {
   "cell_type": "code",
   "execution_count": 237,
   "metadata": {},
   "outputs": [],
   "source": [
    "class MyLineReg():\n",
    "    def __init__(self, n_iter, learning_rate, metric=None, reg=None, l1_coef=None, l2_coef=None):\n",
    "        \"\"\" \n",
    "        metric: r2, mse, mae, mape, rmse\n",
    "        \"\"\"\n",
    "        self.n_iter = n_iter\n",
    "        self.learning_rate = learning_rate\n",
    "        self.weights = None\n",
    "        self.metric = metric\n",
    "        self.reg = reg\n",
    "        self.l1_coef = l1_coef\n",
    "        self.l2_coef = l2_coef\n",
    "\n",
    "    def predict(self, X):\n",
    "        X = X.copy()\n",
    "        X.insert(0, \"bias\", 1)\n",
    "        return X @ self.weights\n",
    "    \n",
    "    def get_loss_metric(self, y_pred, y):\n",
    "        error = y_pred - y\n",
    "        if (self.metric == None) | (self.metric == 'mse'):\n",
    "            return np.sum(error ** 2) / len(y_pred)\n",
    "        elif self.metric == 'rmse':\n",
    "            return np.sqrt(np.sum(error ** 2) / len(y_pred))\n",
    "        elif self.metric == 'mae':\n",
    "            return np.sum(abs(error)) / len(y_pred)\n",
    "        elif self.metric == 'mape':\n",
    "            return 100 / len(y_pred) * np.sum(abs((error) / y))\n",
    "        elif self.metric == 'r2':\n",
    "            return 1 - np.sum((error) ** 2) / np.sum((y - np.mean(y)) ** 2)\n",
    "        raise ValueError('Invalid metric. Supported metrics: mae, mse, rmse, mape, r2')\n",
    "    \n",
    "    def get_loss_regularization(self):\n",
    "        if self.reg is None:\n",
    "            return 0\n",
    "        elif self.reg == 'l1':\n",
    "            return self.l1_coef * np.sum(abs(self.weights))\n",
    "        elif self.reg == 'l2':\n",
    "            return self.l2_coef * np.sum(self.weights ** 2)\n",
    "        elif self.reg == 'elasticnet':\n",
    "            return self.l1_coef * np.sum(abs(self.weights)) + self.l2_coef * np.sum(self.weights ** 2)\n",
    "        raise ValueError('Invalid regularization. Supported methods: l1, l2, elasticnet')\n",
    "\n",
    "    def gr_mse(self, X, y_pred, y):\n",
    "        error = y_pred - y\n",
    "        if self.reg is None:\n",
    "            return (2 / len(y_pred)) * X.T @ error\n",
    "        if self.reg == 'l1':\n",
    "            return (2 / len(y_pred)) * X.T @ error + self.l1_coef * (self.weights / abs(self.weights))\n",
    "        elif self.reg == 'l2':\n",
    "            return (2 / len(y_pred)) * X.T @ error + self.l2_coef * 2 * self.weights\n",
    "        elif self.reg == 'elasticnet':\n",
    "            return (2 / len(y_pred)) * X.T @ error + self.l1_coef * (self.weights / abs(self.weights)) + self.l2_coef * 2 * self.weights\n",
    "        raise ValueError('Invalid regularization. Supported methods: l1, l2, elasticnet')\n",
    "\n",
    "    def fit(self, X, y, verbose=False):\n",
    "        X = X.copy()\n",
    "        y = y.copy()\n",
    "        X.insert(0, \"bias\", 1)\n",
    "        if self.weights is None:    \n",
    "            self.weights = np.ones(X.shape[1])\n",
    "\n",
    "        for epoch in range(1, self.n_iter + 1):\n",
    "            step = self.learning_rate if type(self.learning_rate) in (int, float) else self.learning_rate(epoch)\n",
    "            y_pred = X @ self.weights\n",
    "            self.weights -= step * self.gr_mse(X, y_pred, y)\n",
    "\n",
    "            self.loss_func_score = self.get_loss_metric(y_pred, y) + self.get_loss_regularization()\n",
    "            if verbose and ((epoch % verbose == 0) | (epoch == 1)):\n",
    "                if self.metric:\n",
    "                    print(f\"{epoch} | loss: {self.loss_func_score} | lr: {np.round(step, 5)}\")\n",
    "                else:\n",
    "                    print(f\"{epoch} | mse loss: {self.loss_func_score} | lr: {np.round(step, 5)}\")\n",
    "        self.best_score = self.loss_func_score\n",
    "\n",
    "    def get_coef(self):\n",
    "        return self.weights[1:]\n",
    "    \n",
    "    def get_best_score(self):\n",
    "        return self.best_score\n",
    "\n",
    "    def __str__(self) -> str:\n",
    "        return f\"{self.__class__.__name__} class: \" + \", \".join(\"%s=%s\" % item for item in vars(self).items())\n",
    "    \n",
    "    def __repr__(self) -> str:\n",
    "        return f\"{self.__class__.__name__} class: \" + \", \".join(\"%s=%s\" % item for item in vars(self).items())"
   ]
  },
  {
   "cell_type": "code",
   "execution_count": 241,
   "metadata": {},
   "outputs": [],
   "source": [
    "reg = MyLineReg(100, metric='mae', learning_rate=lambda iter: 0.5 * (0.85 ** iter))"
   ]
  },
  {
   "cell_type": "code",
   "execution_count": 242,
   "metadata": {},
   "outputs": [
    {
     "name": "stdout",
     "output_type": "stream",
     "text": [
      "1 | loss: 113.7842420167003 | lr: 0.425\n",
      "10 | loss: 12.01282802500864 | lr: 0.09844\n",
      "20 | loss: 11.99871451957513 | lr: 0.01938\n",
      "30 | loss: 11.997663526375304 | lr: 0.00382\n",
      "40 | loss: 11.997483371595672 | lr: 0.00075\n",
      "50 | loss: 11.997450131422381 | lr: 0.00015\n",
      "60 | loss: 11.997443614110333 | lr: 3e-05\n",
      "70 | loss: 11.99744233205506 | lr: 1e-05\n",
      "80 | loss: 11.997442079691346 | lr: 0.0\n",
      "90 | loss: 11.997442030008948 | lr: 0.0\n",
      "100 | loss: 11.997442020227814 | lr: 0.0\n"
     ]
    }
   ],
   "source": [
    "reg.fit(X, y, 10)"
   ]
  },
  {
   "cell_type": "code",
   "execution_count": 243,
   "metadata": {},
   "outputs": [
    {
     "data": {
      "text/plain": [
       "11.997442020227814"
      ]
     },
     "execution_count": 243,
     "metadata": {},
     "output_type": "execute_result"
    }
   ],
   "source": [
    "reg.get_best_score()"
   ]
  }
 ],
 "metadata": {
  "kernelspec": {
   "display_name": "Python 3",
   "language": "python",
   "name": "python3"
  },
  "language_info": {
   "codemirror_mode": {
    "name": "ipython",
    "version": 3
   },
   "file_extension": ".py",
   "mimetype": "text/x-python",
   "name": "python",
   "nbconvert_exporter": "python",
   "pygments_lexer": "ipython3",
   "version": "3.12.0"
  }
 },
 "nbformat": 4,
 "nbformat_minor": 2
}
