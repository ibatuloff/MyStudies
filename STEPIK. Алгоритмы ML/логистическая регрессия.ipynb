{
 "cells": [
  {
   "cell_type": "markdown",
   "metadata": {},
   "source": [
    "Логистическая регрессия"
   ]
  },
  {
   "cell_type": "markdown",
   "metadata": {},
   "source": [
    "И в линейной и в логистической регрессии используется линейная функция. Только в линейной регрессии она используется для предсказания значений, а в логистической - для предсказания отнесения к одному из двух классов (0 или 1, да или нет, и т.д.)"
   ]
  },
  {
   "cell_type": "markdown",
   "metadata": {},
   "source": [
    "Классы разделяются поверхностью, в зависимости от кол-ва фичей это может быть линия, плоскость или гиперплоскость (многомерная плоскость)"
   ]
  },
  {
   "cell_type": "markdown",
   "metadata": {},
   "source": [
    "Чем дальше значения лежат от разделяющей поверхности, тем уверенее модель относит объект к тому или иному классу. Но по абсолютным значениям нельзя сказать, насколько мы далеко от некой точки. Поэтому абсолютные числа надо перевести в относительные. Сделать это можно прогоняя числа через функцию сигмоиды. В результате получим числа в диапазоне от 0 до 1."
   ]
  },
  {
   "attachments": {
    "image.png": {
     "image/png": "[encoded data removed]"
    }
   },
   "cell_type": "markdown",
   "metadata": {},
   "source": [
    "![image.png](attachment:image.png)"
   ]
  },
  {
   "cell_type": "markdown",
   "metadata": {},
   "source": [
    "z - ответы линейной функции"
   ]
  },
  {
   "cell_type": "markdown",
   "metadata": {},
   "source": [
    "Чем больше значение логита, тем дальше оно будет от разделяющей линии и тем ближе значение будет к 1 после применения функции сигмоиды (т.е. тем выше уверенность). Отрицательные значения будут меньше 0.5 – это значит, что они принадлежат другому классу. Чем ближе логиты к разделяющей плоскости, тем ближе будут значение к 0.5 после применения сигмоиды – т.е. модель меньше будет уверена в ответе.\n"
   ]
  },
  {
   "cell_type": "markdown",
   "metadata": {},
   "source": [
    "В некоторых библиотеках машинного обучения значения, полученные после сигмоиды, называются predict_proba."
   ]
  },
  {
   "cell_type": "markdown",
   "metadata": {},
   "source": [
    "LogLoss"
   ]
  },
  {
   "cell_type": "markdown",
   "metadata": {},
   "source": [
    "LogLoss - функция потерь логистической регрессии"
   ]
  },
  {
   "attachments": {
    "image.png": {
     "image/png": "[encoded data removed]"
    }
   },
   "cell_type": "markdown",
   "metadata": {},
   "source": [
    "![image.png](attachment:image.png)"
   ]
  },
  {
   "attachments": {
    "image.png": {
     "image/png": "[encoded data removed]"
    }
   },
   "cell_type": "markdown",
   "metadata": {},
   "source": [
    "![image.png](attachment:image.png)"
   ]
  },
  {
   "cell_type": "markdown",
   "metadata": {},
   "source": [
    "Выражая в матричном виде, получим"
   ]
  },
  {
   "attachments": {
    "image.png": {
     "image/png": "[encoded data removed]"
    }
   },
   "cell_type": "markdown",
   "metadata": {},
   "source": [
    "![image.png](attachment:image.png)"
   ]
  },
  {
   "cell_type": "markdown",
   "metadata": {},
   "source": [
    "Градиент по функции потерь:"
   ]
  },
  {
   "attachments": {
    "image.png": {
     "image/png": "[encoded data removed]"
    }
   },
   "cell_type": "markdown",
   "metadata": {},
   "source": [
    "![image.png](attachment:image.png)"
   ]
  },
  {
   "cell_type": "markdown",
   "metadata": {},
   "source": []
  },
  {
   "cell_type": "markdown",
   "metadata": {},
   "source": [
    "Переходим к практике"
   ]
  },
  {
   "cell_type": "code",
   "execution_count": 109,
   "metadata": {},
   "outputs": [],
   "source": [
    "import numpy as np\n",
    "import pandas as pd\n",
    "import random\n",
    "import math\n",
    "from sklearn.datasets import make_classification\n",
    "from sklearn.model_selection import train_test_split\n",
    "import matplotlib.pyplot as plt\n",
    "import sklearn.metrics as skm\n",
    "from sklearn.metrics import  roc_curve\n",
    "\n",
    "X, y = make_classification(n_samples=1000, n_features=14, n_informative=10, random_state=42)\n",
    "X = pd.DataFrame(X)\n",
    "y = pd.Series(y)\n",
    "X_train, X_test, y_train, y_test = train_test_split(X, y, test_size=0.2, random_state=42)\n"
   ]
  },
  {
   "cell_type": "code",
   "execution_count": 110,
   "metadata": {},
   "outputs": [],
   "source": [
    "class MyLogReg():\n",
    "    def __init__(self, n_iter=10, learning_rate=0.1, weights=None, metric=None):\n",
    "        self.n_iter = n_iter\n",
    "        self.learning_rate = learning_rate\n",
    "        self.weights = weights\n",
    "        self.metric = metric #accuracy, precision, recall, f1, roc_auc\n",
    "\n",
    "    \n",
    "    \n",
    "    def fit(self, X, y, verbose=False):\n",
    "        X = X.copy()\n",
    "        y = y.copy()\n",
    "        X.insert(0, \"bias\", 1)\n",
    "        if self.weights is None:    \n",
    "            self.weights = np.ones(X.shape[1])\n",
    "\n",
    "        error_hist = []\n",
    "\n",
    "        for epoch in range(self.n_iter):\n",
    "            y_pred = 1 / (1 + np.exp(-X @ self.weights))\n",
    "            self.weights -= self.learning_rate * self.get_grad(X, y, y_pred)\n",
    "\n",
    "            log_loss = self.get_log_loss(y, y_pred)\n",
    "            error_hist.append(log_loss)\n",
    "\n",
    "            if verbose and (epoch == 1) | (epoch % verbose == 0):\n",
    "                if self.metric:\n",
    "                    print(f'{epoch}| LogLoss: {np.round(log_loss, 2)} | {self.metric}: {self.get_score(X, y)}')    \n",
    "                else:\n",
    "                    print(f'{epoch}| LogLoss: {np.round(log_loss, 2)}')    \n",
    "        return error_hist  \n",
    "    \n",
    "    def sigmoid(self, y_pred):\n",
    "        return 1 / (1 + np.exp(-y_pred))\n",
    "    \n",
    "    def get_score(self, X, y):\n",
    "        if self.metric in ('accuracy', 'precision', 'recall', 'f1'):\n",
    "            # score = getattr(self, 'get_' + self.metric)(y, np.where(self.sigmoid(X @ self.weights) > 0.5, 1, 0))\n",
    "            return getattr(self, 'get_' + self.metric)(y, np.where(self.sigmoid(X @ self.weights) > 0.5, 1, 0))\n",
    "        elif self.metric == \"roc_auc\":\n",
    "            return getattr(self, 'get_' + self.metric)(y, self.sigmoid(X @ self.weights))\n",
    "        else:\n",
    "            raise ValueError(\"Invalid metric. Supported: accuracy, precision, recall, f1, roc_auc\")\n",
    "            \n",
    "    \n",
    "    def get_accuracy(self, y, y_pred):\n",
    "        confusion_matrix = self.get_confusion_matrix(y, y_pred)\n",
    "        return (confusion_matrix[0, 0] + confusion_matrix[1, 1]) / np.sum(confusion_matrix)\n",
    "    \n",
    "    def get_precision(self, y, y_pred):\n",
    "        confusion_matrix = self.get_confusion_matrix(y, y_pred)\n",
    "        return confusion_matrix[1, 1] / (confusion_matrix[0, 1] + confusion_matrix[1, 1])\n",
    "    \n",
    "    def get_recall(self, y, y_pred):\n",
    "        confusion_matrix = self.get_confusion_matrix(y, y_pred)\n",
    "        return confusion_matrix[1, 1] / (confusion_matrix[1, 1] + confusion_matrix[1, 0])\n",
    "    \n",
    "    def get_f1(self, y, y_pred):\n",
    "        precision = self.get_precision(y, y_pred)\n",
    "        recall = self.get_recall(y, y_pred)\n",
    "        return 2 * precision * recall / (precision + recall)    \n",
    "    \n",
    "    def get_roc_auc(self, y, y_pred):\n",
    "        df = pd.DataFrame({'predicted': y_pred, 'ground_truth': y}).sort_values(by = 'predicted', ascending=False)\n",
    "        p = df[df['ground_truth'] == 1]\n",
    "        n = df[df['ground_truth'] == 0]\n",
    "    \n",
    "        total = 0\n",
    "        for prob in n['predicted']:\n",
    "            positive_score = (p['predicted'] > prob).sum()\n",
    "            same_score = (p['predicted'] == prob).sum()\n",
    "            total += positive_score + 0.5 * same_score\n",
    "        \n",
    "        return (1 / (p.shape[0] * n.shape[0]) * total)\n",
    "        \n",
    "    def get_confusion_matrix(self, y, y_pred):\n",
    "        \"\"\"\n",
    "        TN FP\n",
    "        FN TP\n",
    "        \"\"\"\n",
    "        classes = np.unique(y) #классы\n",
    "        confusion_matrix = np.zeros((len(classes), len(classes)))\n",
    "\n",
    "        for i in range(len(classes)):\n",
    "            for j in range(len(classes)):\n",
    "                confusion_matrix[i, j] = np.sum((y == classes[i]) & y_pred == classes[j])\n",
    "        return confusion_matrix\n",
    "\n",
    "    def get_grad(self, X, y, y_pred):\n",
    "        return ((y_pred - y) @ X) / len(y_pred)\n",
    "\n",
    "    def get_log_loss(self, y, y_pred):\n",
    "        return -np.mean((y * np.log(y_pred + 1e-15)) + (1 - y) * np.log(1 - y_pred + 1e-15))\n",
    "    \n",
    "    def predict_proba(self, X):\n",
    "        X = X.copy()\n",
    "        X.insert(0, \"bias\", 1)\n",
    "        return 1 / (1 + np.exp(-X @ self.weights))\n",
    "    \n",
    "    def predict(self, X):\n",
    "        X = X.copy()\n",
    "        X.insert(0, \"bias\", 1)\n",
    "        return np.where((1 / (1 + np.exp(-X @ self.weights))) > 0.5, 1, 0)\n",
    "    \n",
    "    def get_coef(self):\n",
    "        return self.weights[1:]\n",
    "    \n",
    "    def __str__(self) -> str:\n",
    "        return f\"{self.__class__.__name__} class: \" + \", \".join(\"%s=%s\" % item for item in vars(self).items())\n",
    "    \n",
    "    def __repr__(self) -> str:\n",
    "        return f\"{self.__class__.__name__} class: \" + \", \".join(\"%s=%s\" % item for item in vars(self).items())\n",
    "    \n",
    "   "
   ]
  },
  {
   "cell_type": "code",
   "execution_count": 111,
   "metadata": {},
   "outputs": [
    {
     "name": "stdout",
     "output_type": "stream",
     "text": [
      "0| LogLoss: 3.83 | roc_auc: 0.5251693792344808\n",
      "1| LogLoss: 3.53 | roc_auc: 0.5330445761144028\n"
     ]
    },
    {
     "name": "stdout",
     "output_type": "stream",
     "text": [
      "100| LogLoss: 0.42 | roc_auc: 0.9057538938473462\n",
      "200| LogLoss: 0.37 | roc_auc: 0.9166104152603815\n"
     ]
    },
    {
     "data": {
      "image/png": "[encoded data removed]",
      "text/plain": [
       "<Figure size 640x480 with 1 Axes>"
      ]
     },
     "metadata": {},
     "output_type": "display_data"
    }
   ],
   "source": [
    "logreg = MyLogReg(n_iter=300, learning_rate=0.1, metric='roc_auc')\n",
    "history = logreg.fit(X_train, y_train, 100)\n",
    "\n",
    "epochs = range(1, len(history) + 1)\n",
    "\n",
    "plt.plot(epochs, history, 'b', label='MSE')\n",
    "plt.title('График обучения')\n",
    "plt.xlabel('Эпохи')\n",
    "plt.ylabel('log_loss')\n",
    "plt.legend()\n",
    "\n",
    "# Отобразите график.\n",
    "plt.show()"
   ]
  },
  {
   "cell_type": "code",
   "execution_count": 112,
   "metadata": {},
   "outputs": [
    {
     "data": {
      "image/png": "[encoded data removed]",
      "text/plain": [
       "<Figure size 1000x800 with 1 Axes>"
      ]
     },
     "metadata": {},
     "output_type": "display_data"
    }
   ],
   "source": [
    "import seaborn as sns\n",
    "sns.set_color_codes(\"muted\")\n",
    "\n",
    "\n",
    "plt.figure(figsize=(10, 8))\n",
    "fpr, tpr, thresholds = roc_curve(y_test, logreg.predict_proba(X_test), pos_label=1)\n",
    "lw = 2\n",
    "plt.plot(fpr, tpr, lw=lw, label='ROC curve ')\n",
    "plt.plot([0, 1], [0, 1])\n",
    "plt.xlim([0.0, 1.0])\n",
    "plt.ylim([0.0, 1.05])\n",
    "plt.xlabel('False Positive Rate')\n",
    "plt.ylabel('True Positive Rate')\n",
    "plt.title('ROC curve')\n",
    "plt.savefig(\"ROC.png\")\n",
    "plt.show()"
   ]
  },
  {
   "cell_type": "code",
   "execution_count": 113,
   "metadata": {},
   "outputs": [
    {
     "name": "stdout",
     "output_type": "stream",
     "text": [
      "accuracy:  0.865\n"
     ]
    }
   ],
   "source": [
    "pred = logreg.predict(X_test)\n",
    "print('accuracy: ', (pred == y_test).sum() / len(y_test))"
   ]
  },
  {
   "cell_type": "code",
   "execution_count": 114,
   "metadata": {},
   "outputs": [
    {
     "name": "stdout",
     "output_type": "stream",
     "text": [
      "roc_auc: 0.9290361325192674\n",
      "precision: 0.8725490196078431\n",
      "recall: 0.8640776699029126\n",
      "f1: 0.8682926829268293\n"
     ]
    }
   ],
   "source": [
    "metric_dict = {'roc_auc': skm.roc_auc_score(y_test, logreg.predict_proba(X_test)),\n",
    "                'precision': skm.precision_score(y_test, pred),\n",
    "                'recall': skm.recall_score(y_test, pred),\n",
    "                'f1': skm.f1_score(y_test, pred)}\n",
    "for k, v in metric_dict.items():\n",
    "    print(f\"{k}: {v}\")"
   ]
  },
  {
   "cell_type": "code",
   "execution_count": 116,
   "metadata": {},
   "outputs": [
    {
     "data": {
      "text/plain": [
       "0.9290361325192673"
      ]
     },
     "execution_count": 116,
     "metadata": {},
     "output_type": "execute_result"
    }
   ],
   "source": [
    "X_test = X_test.copy()\n",
    "X_test.insert(0, 'bias', 1)\n",
    "logreg.get_score(X_test, y_test)"
   ]
  },
  {
   "cell_type": "markdown",
   "metadata": {},
   "source": []
  },
  {
   "cell_type": "markdown",
   "metadata": {},
   "source": [
    "[[188.  12.]\n",
    " [109.  91.]]"
   ]
  },
  {
   "cell_type": "code",
   "execution_count": 57,
   "metadata": {},
   "outputs": [
    {
     "data": {
      "text/plain": [
       "[0.00021879120512343568,\n",
       " 0.0016982325807804028,\n",
       " 0.003103095091486597,\n",
       " 0.0032283161287038043,\n",
       " 0.004528723740526869,\n",
       " 0.005053319003167059,\n",
       " 0.005173762204509116,\n",
       " 0.005521284991045498,\n",
       " 0.006416809352478217,\n",
       " 0.008501856872363326,\n",
       " 0.009496719857232412,\n",
       " 0.009896980221940792,\n",
       " 0.01007740474682395,\n",
       " 0.012554752208532334,\n",
       " 0.013971701149996015,\n",
       " 0.014930274242687936,\n",
       " 0.01671079648271315,\n",
       " 0.017811493931495597,\n",
       " 0.019071982051415057,\n",
       " 0.01960750617000661,\n",
       " 0.01972565504885297,\n",
       " 0.019998679177518432,\n",
       " 0.020833888200125897,\n",
       " 0.021142058625164523,\n",
       " 0.02241995606696919,\n",
       " 0.02722431271815208,\n",
       " 0.03168739501661413,\n",
       " 0.03403835780809122,\n",
       " 0.036372807937796015,\n",
       " 0.03696704566175153,\n",
       " 0.03815349314863032,\n",
       " 0.04053326206674463,\n",
       " 0.04073660373796823,\n",
       " 0.04213549871375962,\n",
       " 0.04241277966155789,\n",
       " 0.04297332227690677,\n",
       " 0.044704964403802686,\n",
       " 0.0530217278105536,\n",
       " 0.05796851027145722,\n",
       " 0.05863639108579343,\n",
       " 0.06035463218706719,\n",
       " 0.0693187469726497,\n",
       " 0.07621614933208147,\n",
       " 0.0830926199887112,\n",
       " 0.08369460442805711,\n",
       " 0.08766881767917263,\n",
       " 0.08877939892453696,\n",
       " 0.09661748999584441,\n",
       " 0.09802494689334476,\n",
       " 0.09817175582821852,\n",
       " 0.11205548147143272,\n",
       " 0.12265302897292096,\n",
       " 0.12666771762546133,\n",
       " 0.12855827412357526,\n",
       " 0.12945597419259794,\n",
       " 0.1335598944364554,\n",
       " 0.14175938092027185,\n",
       " 0.14650735694518283,\n",
       " 0.1500820716823812,\n",
       " 0.15626764395001994,\n",
       " 0.1588645622146891,\n",
       " 0.17523534801123536,\n",
       " 0.1858783589716789,\n",
       " 0.19500488116138295,\n",
       " 0.19671784992664382,\n",
       " 0.23382933757587337,\n",
       " 0.2750052897024362,\n",
       " 0.2764460885245111,\n",
       " 0.294238594786259,\n",
       " 0.30400149095409124,\n",
       " 0.31814261496595425,\n",
       " 0.32101485080320485,\n",
       " 0.3483166263636379,\n",
       " 0.3553309232171868,\n",
       " 0.35997595442383334,\n",
       " 0.36192378115051416,\n",
       " 0.36889565316722717,\n",
       " 0.37550931803183396,\n",
       " 0.38386001699787453,\n",
       " 0.40433854342422554,\n",
       " 0.40469335705501414,\n",
       " 0.4325237489625508,\n",
       " 0.4409629018304875,\n",
       " 0.44556116494898107,\n",
       " 0.45002036789262556,\n",
       " 0.4571953048619808,\n",
       " 0.46491177262894956,\n",
       " 0.48186637167196594,\n",
       " 0.48721684761357215,\n",
       " 0.49010351421967785,\n",
       " 0.4922796104810236,\n",
       " 0.5028357182842816,\n",
       " 0.504849723401866,\n",
       " 0.5054353569732053,\n",
       " 0.5076657725194476,\n",
       " 0.5091633013133001,\n",
       " 0.5134505301755262,\n",
       " 0.5192569922836606,\n",
       " 0.5216608423042012,\n",
       " 0.5375758129261548,\n",
       " 0.5509135722968798,\n",
       " 0.5653170418989036,\n",
       " 0.5779936165385785,\n",
       " 0.598763671293774,\n",
       " 0.5989617374860114,\n",
       " 0.6012687201598501,\n",
       " 0.6035002992593274,\n",
       " 0.6162041045501533,\n",
       " 0.6254505754735621,\n",
       " 0.6374304051431058,\n",
       " 0.6444017745444615,\n",
       " 0.6492509201235983,\n",
       " 0.6538624938621428,\n",
       " 0.6650847632288016,\n",
       " 0.6780930104481829,\n",
       " 0.705130748785324,\n",
       " 0.7125071245664953,\n",
       " 0.7127590105994932,\n",
       " 0.7280531132471982,\n",
       " 0.7298714011706758,\n",
       " 0.7376500336169252,\n",
       " 0.7607442283888743,\n",
       " 0.7760195061588523,\n",
       " 0.7789051560601457,\n",
       " 0.8014771958889708,\n",
       " 0.8072013243719983,\n",
       " 0.8106167474351006,\n",
       " 0.8328030554911247,\n",
       " 0.8375985879930652,\n",
       " 0.8454040588678158,\n",
       " 0.8557993699876023,\n",
       " 0.859152120236515,\n",
       " 0.8599465969869176,\n",
       " 0.8610306551498518,\n",
       " 0.8630507133606015,\n",
       " 0.867424974157735,\n",
       " 0.8742740732152957,\n",
       " 0.8765919642773164,\n",
       " 0.8792430092816956,\n",
       " 0.8860183293115508,\n",
       " 0.8862558923451969,\n",
       " 0.8872232614674299,\n",
       " 0.8906640497485838,\n",
       " 0.8927209150502852,\n",
       " 0.9086663124767643,\n",
       " 0.908966864183155,\n",
       " 0.9112887457209339,\n",
       " 0.9132451986133314,\n",
       " 0.9150619395701367,\n",
       " 0.9151435506013758,\n",
       " 0.9156213430700024,\n",
       " 0.9168229871261822,\n",
       " 0.9192742021530985,\n",
       " 0.9232408122555729,\n",
       " 0.9246172167403091,\n",
       " 0.9341212348079244,\n",
       " 0.9406656438982565,\n",
       " 0.9448398720718498,\n",
       " 0.9450923338926882,\n",
       " 0.9467319156863154,\n",
       " 0.9482310760769411,\n",
       " 0.950849540704332,\n",
       " 0.9522937989241198,\n",
       " 0.9528281626552837,\n",
       " 0.9544106789468265,\n",
       " 0.9552513128941488,\n",
       " 0.9554350631094887,\n",
       " 0.9557630492497119,\n",
       " 0.9595008740386088,\n",
       " 0.9602550356103314,\n",
       " 0.9606561226400812,\n",
       " 0.962282473926125,\n",
       " 0.9635242450008193,\n",
       " 0.965319817217362,\n",
       " 0.965560518511663,\n",
       " 0.966930325321942,\n",
       " 0.9670192731110006,\n",
       " 0.9687132911053349,\n",
       " 0.9693392752860702,\n",
       " 0.973696693183307,\n",
       " 0.9755144853667223,\n",
       " 0.9780528850851402,\n",
       " 0.9791764324581957,\n",
       " 0.9809207903991256,\n",
       " 0.9814772571906084,\n",
       " 0.9815622969475402,\n",
       " 0.9828059583251046,\n",
       " 0.9834749708442287,\n",
       " 0.9837317206450111,\n",
       " 0.9841678695124277,\n",
       " 0.9845501426811364,\n",
       " 0.9888569713544045,\n",
       " 0.9900798564187482,\n",
       " 0.9910819723067318,\n",
       " 0.9914369507816171,\n",
       " 0.992309957111154,\n",
       " 0.9926254323830506,\n",
       " 0.9951166313460196,\n",
       " 0.9964523519441957,\n",
       " 0.9980849574330051]"
      ]
     },
     "execution_count": 57,
     "metadata": {},
     "output_type": "execute_result"
    }
   ],
   "source": [
    "sorted(logreg.predict_proba(X_test))"
   ]
  },
  {
   "cell_type": "code",
   "execution_count": 58,
   "metadata": {},
   "outputs": [
    {
     "data": {
      "text/html": [
       "<div>\n",
       "<style scoped>\n",
       "    .dataframe tbody tr th:only-of-type {\n",
       "        vertical-align: middle;\n",
       "    }\n",
       "\n",
       "    .dataframe tbody tr th {\n",
       "        vertical-align: top;\n",
       "    }\n",
       "\n",
       "    .dataframe thead th {\n",
       "        text-align: right;\n",
       "    }\n",
       "</style>\n",
       "<table border=\"1\" class=\"dataframe\">\n",
       "  <thead>\n",
       "    <tr style=\"text-align: right;\">\n",
       "      <th></th>\n",
       "      <th>0</th>\n",
       "      <th>pred</th>\n",
       "    </tr>\n",
       "  </thead>\n",
       "  <tbody>\n",
       "    <tr>\n",
       "      <th>521</th>\n",
       "      <td>0.294239</td>\n",
       "      <td>0</td>\n",
       "    </tr>\n",
       "    <tr>\n",
       "      <th>737</th>\n",
       "      <td>0.060355</td>\n",
       "      <td>0</td>\n",
       "    </tr>\n",
       "    <tr>\n",
       "      <th>740</th>\n",
       "      <td>0.996452</td>\n",
       "      <td>1</td>\n",
       "    </tr>\n",
       "    <tr>\n",
       "      <th>660</th>\n",
       "      <td>0.126668</td>\n",
       "      <td>0</td>\n",
       "    </tr>\n",
       "    <tr>\n",
       "      <th>411</th>\n",
       "      <td>0.991437</td>\n",
       "      <td>1</td>\n",
       "    </tr>\n",
       "    <tr>\n",
       "      <th>...</th>\n",
       "      <td>...</td>\n",
       "      <td>...</td>\n",
       "    </tr>\n",
       "    <tr>\n",
       "      <th>408</th>\n",
       "      <td>0.150082</td>\n",
       "      <td>0</td>\n",
       "    </tr>\n",
       "    <tr>\n",
       "      <th>332</th>\n",
       "      <td>0.728053</td>\n",
       "      <td>1</td>\n",
       "    </tr>\n",
       "    <tr>\n",
       "      <th>208</th>\n",
       "      <td>0.009497</td>\n",
       "      <td>0</td>\n",
       "    </tr>\n",
       "    <tr>\n",
       "      <th>613</th>\n",
       "      <td>0.945092</td>\n",
       "      <td>1</td>\n",
       "    </tr>\n",
       "    <tr>\n",
       "      <th>78</th>\n",
       "      <td>0.876592</td>\n",
       "      <td>1</td>\n",
       "    </tr>\n",
       "  </tbody>\n",
       "</table>\n",
       "<p>200 rows × 2 columns</p>\n",
       "</div>"
      ],
      "text/plain": [
       "            0  pred\n",
       "521  0.294239     0\n",
       "737  0.060355     0\n",
       "740  0.996452     1\n",
       "660  0.126668     0\n",
       "411  0.991437     1\n",
       "..        ...   ...\n",
       "408  0.150082     0\n",
       "332  0.728053     1\n",
       "208  0.009497     0\n",
       "613  0.945092     1\n",
       "78   0.876592     1\n",
       "\n",
       "[200 rows x 2 columns]"
      ]
     },
     "execution_count": 58,
     "metadata": {},
     "output_type": "execute_result"
    }
   ],
   "source": [
    "df = pd.DataFrame(logreg.predict_proba(X_test))\n",
    "pred = logreg.predict(X_test)\n",
    "df['pred'] = pred\n",
    "df"
   ]
  }
 ],
 "metadata": {
  "kernelspec": {
   "display_name": "Python 3",
   "language": "python",
   "name": "python3"
  },
  "language_info": {
   "codemirror_mode": {
    "name": "ipython",
    "version": 3
   },
   "file_extension": ".py",
   "mimetype": "text/x-python",
   "name": "python",
   "nbconvert_exporter": "python",
   "pygments_lexer": "ipython3",
   "version": "3.12.2"
  }
 },
 "nbformat": 4,
 "nbformat_minor": 2
}
